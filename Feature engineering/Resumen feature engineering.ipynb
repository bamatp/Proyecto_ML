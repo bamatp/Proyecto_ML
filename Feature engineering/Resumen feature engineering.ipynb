{
 "cells": [
  {
   "attachments": {},
   "cell_type": "markdown",
   "metadata": {},
   "source": [
    "# Resumen feature engineering"
   ]
  },
  {
   "attachments": {},
   "cell_type": "markdown",
   "metadata": {},
   "source": [
    "**Escenario 1**: Pasamos de 3755 registros en 11 columnas a 3755 registros en 262 columnas\n",
    "\n",
    "- Transformamos todas las columnas a dummies\n",
    "\n",
    "**Escenario 1.2**: Pasamos de 3755 registros en 11 columnas a 3718 registros en 249 columnas\n",
    "\n",
    "- Seleccionamos únicamente aquellos salarios de trabajadores a tiempo completo\n",
    "\n",
    "- Transformamos todas las columnas a dummies\n",
    "\n",
    "**Escenario 1.3**: Pasamos de 3755 registros en 11 columnas a 1620 registros en 186 columnas\n",
    "\n",
    "- Seleccionamos únicamente aquellos salarios de trabajadores a tiempo completo\n",
    "\n",
    "- Seleccionamos únicamente aquellos salarios de trabajadores a teletrabajan el 100% de la jornada\n",
    "\n",
    "- Transformamos todas las columnas a dummies\n",
    "\n",
    "**Escenario 1.4**: Pasamos de 3755 registros en 11 columnas a 1342 registros en 133 columnas\n",
    "\n",
    "- Seleccionamos únicamente aquellos salarios de trabajadores a tiempo completo\n",
    "\n",
    "- Seleccionamos únicamente aquellos salarios de trabajadores a teletrabajan el 100% de la jornada\n",
    "\n",
    "- Seleccionamos únicamente aquellos salarios de los puestos de trabajo más relevantes\n",
    "\n",
    "- Transformamos todas las columnas a dummies\n",
    "\n",
    "**Escenario 1.5**: Pasamos de 3755 registros en 11 columnas a 1342 registros en 130 columnas\n",
    "\n",
    "- Seleccionamos únicamente aquellos salarios de trabajadores a tiempo completo\n",
    "\n",
    "- Seleccionamos únicamente aquellos salarios de trabajadores a teletrabajan el 100% de la jornada\n",
    "\n",
    "- Seleccionamos únicamente aquellos salarios de los puestos de trabajo más relevantes\n",
    "\n",
    "- Ordinal Encoder: Año de prestación de servicios\n",
    "\n",
    "- Transformamos todas las columnas a dummies\n",
    "\n",
    "**Escenario 1.6**: Pasamos de 3755 registros en 11 columnas a 1342 registros en 127 columnas\n",
    "\n",
    "- Seleccionamos únicamente aquellos salarios de trabajadores a tiempo completo\n",
    "\n",
    "- Seleccionamos únicamente aquellos salarios de trabajadores a teletrabajan el 100% de la jornada\n",
    "\n",
    "- Seleccionamos únicamente aquellos salarios de los puestos de trabajo más relevantes\n",
    "\n",
    "- Ordinal Encoder: Año de prestación de servicios y nivel de experiencia\n",
    "\n",
    "- Transformamos todas las columnas a dummies\n",
    "\n"
   ]
  }
 ],
 "metadata": {
  "language_info": {
   "name": "python"
  },
  "orig_nbformat": 4
 },
 "nbformat": 4,
 "nbformat_minor": 2
}
